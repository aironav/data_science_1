{
 "cells": [
  {
   "cell_type": "code",
   "execution_count": 14,
   "metadata": {},
   "outputs": [],
   "source": [
    "import sweetviz as sz\n",
    "import pandas as pd \n",
    "import numpy as np \n",
    "import seaborn as sns\n",
    "import matplotlib.pyplot as plt \n",
    "import plotly_express as px\n",
    "\n",
    "from sklearn.preprocessing import StandardScaler\n",
    "from sklearn.impute import SimpleImputer\n",
    "from sklearn.preprocessing import OneHotEncoder, LabelEncoder\n",
    "from sklearn.model_selection import train_test_split\n",
    "import pickle"
   ]
  },
  {
   "cell_type": "code",
   "execution_count": 15,
   "metadata": {},
   "outputs": [],
   "source": [
    "df = pd.read_csv('dataset/heart.csv')"
   ]
  },
  {
   "cell_type": "markdown",
   "metadata": {},
   "source": [
    "About dataset\n",
    "\n",
    "Age : Age of the patient\n",
    "\n",
    "Sex : Sex of the patient\n",
    "\n",
    "exang: exercise induced angina (1 = yes; 0 = no)\n",
    "\n",
    "ca: number of major vessels (0-3)\n",
    "\n",
    "cp : Chest Pain type chest pain type\n",
    "\n",
    "    Value 1: typical angina\n",
    "    Value 2: atypical angina\n",
    "    Value 3: non-anginal pain\n",
    "    Value 4: asymptomatic\n",
    "    trtbps : resting blood pressure (in mm Hg)\n",
    "\n",
    "chol : cholestoral in mg/dl fetched via BMI sensor\n",
    "\n",
    "fbs : (fasting blood sugar > 120 mg/dl) (1 = true; 0 = false)\n",
    "\n",
    "rest_ecg : resting electrocardiographic results\n",
    "\n",
    "    Value 0: normal\n",
    "    Value 1: having ST-T wave abnormality (T wave inversions and/or ST elevation or depression of > 0.05 mV)\n",
    "    Value 2: showing probable or definite left ventricular hypertrophy by Estes' criteria\n",
    "    thalach : maximum heart rate achieved\n",
    "\n",
    "target : 0= less chance of heart attack 1= more chance of heart attack\n",
    "\n"
   ]
  },
  {
   "cell_type": "code",
   "execution_count": 16,
   "metadata": {},
   "outputs": [
    {
     "data": {
      "text/html": [
       "<div>\n",
       "<style scoped>\n",
       "    .dataframe tbody tr th:only-of-type {\n",
       "        vertical-align: middle;\n",
       "    }\n",
       "\n",
       "    .dataframe tbody tr th {\n",
       "        vertical-align: top;\n",
       "    }\n",
       "\n",
       "    .dataframe thead th {\n",
       "        text-align: right;\n",
       "    }\n",
       "</style>\n",
       "<table border=\"1\" class=\"dataframe\">\n",
       "  <thead>\n",
       "    <tr style=\"text-align: right;\">\n",
       "      <th></th>\n",
       "      <th>age</th>\n",
       "      <th>sex</th>\n",
       "      <th>cp</th>\n",
       "      <th>trtbps</th>\n",
       "      <th>chol</th>\n",
       "      <th>fbs</th>\n",
       "      <th>restecg</th>\n",
       "      <th>thalachh</th>\n",
       "      <th>exng</th>\n",
       "      <th>oldpeak</th>\n",
       "      <th>slp</th>\n",
       "      <th>caa</th>\n",
       "      <th>thall</th>\n",
       "      <th>output</th>\n",
       "    </tr>\n",
       "  </thead>\n",
       "  <tbody>\n",
       "    <tr>\n",
       "      <th>0</th>\n",
       "      <td>63</td>\n",
       "      <td>1</td>\n",
       "      <td>3</td>\n",
       "      <td>145</td>\n",
       "      <td>233</td>\n",
       "      <td>1</td>\n",
       "      <td>0</td>\n",
       "      <td>150</td>\n",
       "      <td>0</td>\n",
       "      <td>2.3</td>\n",
       "      <td>0</td>\n",
       "      <td>0</td>\n",
       "      <td>1</td>\n",
       "      <td>1</td>\n",
       "    </tr>\n",
       "    <tr>\n",
       "      <th>1</th>\n",
       "      <td>37</td>\n",
       "      <td>1</td>\n",
       "      <td>2</td>\n",
       "      <td>130</td>\n",
       "      <td>250</td>\n",
       "      <td>0</td>\n",
       "      <td>1</td>\n",
       "      <td>187</td>\n",
       "      <td>0</td>\n",
       "      <td>3.5</td>\n",
       "      <td>0</td>\n",
       "      <td>0</td>\n",
       "      <td>2</td>\n",
       "      <td>1</td>\n",
       "    </tr>\n",
       "    <tr>\n",
       "      <th>2</th>\n",
       "      <td>41</td>\n",
       "      <td>0</td>\n",
       "      <td>1</td>\n",
       "      <td>130</td>\n",
       "      <td>204</td>\n",
       "      <td>0</td>\n",
       "      <td>0</td>\n",
       "      <td>172</td>\n",
       "      <td>0</td>\n",
       "      <td>1.4</td>\n",
       "      <td>2</td>\n",
       "      <td>0</td>\n",
       "      <td>2</td>\n",
       "      <td>1</td>\n",
       "    </tr>\n",
       "    <tr>\n",
       "      <th>3</th>\n",
       "      <td>56</td>\n",
       "      <td>1</td>\n",
       "      <td>1</td>\n",
       "      <td>120</td>\n",
       "      <td>236</td>\n",
       "      <td>0</td>\n",
       "      <td>1</td>\n",
       "      <td>178</td>\n",
       "      <td>0</td>\n",
       "      <td>0.8</td>\n",
       "      <td>2</td>\n",
       "      <td>0</td>\n",
       "      <td>2</td>\n",
       "      <td>1</td>\n",
       "    </tr>\n",
       "    <tr>\n",
       "      <th>4</th>\n",
       "      <td>57</td>\n",
       "      <td>0</td>\n",
       "      <td>0</td>\n",
       "      <td>120</td>\n",
       "      <td>354</td>\n",
       "      <td>0</td>\n",
       "      <td>1</td>\n",
       "      <td>163</td>\n",
       "      <td>1</td>\n",
       "      <td>0.6</td>\n",
       "      <td>2</td>\n",
       "      <td>0</td>\n",
       "      <td>2</td>\n",
       "      <td>1</td>\n",
       "    </tr>\n",
       "  </tbody>\n",
       "</table>\n",
       "</div>"
      ],
      "text/plain": [
       "   age  sex  cp  trtbps  chol  fbs  restecg  thalachh  exng  oldpeak  slp  \\\n",
       "0   63    1   3     145   233    1        0       150     0      2.3    0   \n",
       "1   37    1   2     130   250    0        1       187     0      3.5    0   \n",
       "2   41    0   1     130   204    0        0       172     0      1.4    2   \n",
       "3   56    1   1     120   236    0        1       178     0      0.8    2   \n",
       "4   57    0   0     120   354    0        1       163     1      0.6    2   \n",
       "\n",
       "   caa  thall  output  \n",
       "0    0      1       1  \n",
       "1    0      2       1  \n",
       "2    0      2       1  \n",
       "3    0      2       1  \n",
       "4    0      2       1  "
      ]
     },
     "execution_count": 16,
     "metadata": {},
     "output_type": "execute_result"
    }
   ],
   "source": [
    "df.head()"
   ]
  },
  {
   "cell_type": "code",
   "execution_count": 17,
   "metadata": {},
   "outputs": [
    {
     "name": "stdout",
     "output_type": "stream",
     "text": [
      "<class 'pandas.core.frame.DataFrame'>\n",
      "RangeIndex: 303 entries, 0 to 302\n",
      "Data columns (total 14 columns):\n",
      " #   Column    Non-Null Count  Dtype  \n",
      "---  ------    --------------  -----  \n",
      " 0   age       303 non-null    int64  \n",
      " 1   sex       303 non-null    int64  \n",
      " 2   cp        303 non-null    int64  \n",
      " 3   trtbps    303 non-null    int64  \n",
      " 4   chol      303 non-null    int64  \n",
      " 5   fbs       303 non-null    int64  \n",
      " 6   restecg   303 non-null    int64  \n",
      " 7   thalachh  303 non-null    int64  \n",
      " 8   exng      303 non-null    int64  \n",
      " 9   oldpeak   303 non-null    float64\n",
      " 10  slp       303 non-null    int64  \n",
      " 11  caa       303 non-null    int64  \n",
      " 12  thall     303 non-null    int64  \n",
      " 13  output    303 non-null    int64  \n",
      "dtypes: float64(1), int64(13)\n",
      "memory usage: 33.3 KB\n"
     ]
    }
   ],
   "source": [
    "df.info()"
   ]
  },
  {
   "cell_type": "code",
   "execution_count": 9,
   "metadata": {},
   "outputs": [
    {
     "data": {
      "text/plain": [
       "age         0\n",
       "sex         0\n",
       "cp          0\n",
       "trtbps      0\n",
       "chol        0\n",
       "fbs         0\n",
       "restecg     0\n",
       "thalachh    0\n",
       "exng        0\n",
       "oldpeak     0\n",
       "slp         0\n",
       "caa         0\n",
       "thall       0\n",
       "output      0\n",
       "dtype: int64"
      ]
     },
     "execution_count": 9,
     "metadata": {},
     "output_type": "execute_result"
    }
   ],
   "source": [
    "df.isnull().sum()"
   ]
  },
  {
   "cell_type": "code",
   "execution_count": 6,
   "metadata": {},
   "outputs": [],
   "source": [
    "from sklearn.feature_selection import SelectKBest\n",
    "from sklearn.feature_selection import chi2\n",
    "from sklearn.feature_selection import RFE\n",
    "\n",
    "from sklearn.decomposition import PCA # principal component analysis\n",
    "\n",
    "from sklearn.ensemble import ExtraTreesClassifier\n",
    "\n",
    "from sklearn.model_selection import train_test_split\n",
    "from sklearn.metrics import confusion_matrix, classification_report\n",
    "\n",
    "from sklearn.neighbors import KNeighborsClassifier\n",
    "from sklearn.tree import DecisionTreeClassifier"
   ]
  },
  {
   "cell_type": "code",
   "execution_count": 19,
   "metadata": {},
   "outputs": [],
   "source": [
    "x = df[df.columns.to_list()[:-1]]\n",
    "y = df.output"
   ]
  },
  {
   "cell_type": "code",
   "execution_count": 21,
   "metadata": {
    "collapsed": true,
    "jupyter": {
     "outputs_hidden": true
    },
    "tags": []
   },
   "outputs": [
    {
     "data": {
      "text/plain": [
       "array([[1.50e+02, 2.30e+00, 0.00e+00],\n",
       "       [1.87e+02, 3.50e+00, 0.00e+00],\n",
       "       [1.72e+02, 1.40e+00, 0.00e+00],\n",
       "       [1.78e+02, 8.00e-01, 0.00e+00],\n",
       "       [1.63e+02, 6.00e-01, 0.00e+00],\n",
       "       [1.48e+02, 4.00e-01, 0.00e+00],\n",
       "       [1.53e+02, 1.30e+00, 0.00e+00],\n",
       "       [1.73e+02, 0.00e+00, 0.00e+00],\n",
       "       [1.62e+02, 5.00e-01, 0.00e+00],\n",
       "       [1.74e+02, 1.60e+00, 0.00e+00],\n",
       "       [1.60e+02, 1.20e+00, 0.00e+00],\n",
       "       [1.39e+02, 2.00e-01, 0.00e+00],\n",
       "       [1.71e+02, 6.00e-01, 0.00e+00],\n",
       "       [1.44e+02, 1.80e+00, 0.00e+00],\n",
       "       [1.62e+02, 1.00e+00, 0.00e+00],\n",
       "       [1.58e+02, 1.60e+00, 0.00e+00],\n",
       "       [1.72e+02, 0.00e+00, 0.00e+00],\n",
       "       [1.14e+02, 2.60e+00, 0.00e+00],\n",
       "       [1.71e+02, 1.50e+00, 0.00e+00],\n",
       "       [1.51e+02, 1.80e+00, 2.00e+00],\n",
       "       [1.61e+02, 5.00e-01, 0.00e+00],\n",
       "       [1.79e+02, 4.00e-01, 0.00e+00],\n",
       "       [1.78e+02, 0.00e+00, 0.00e+00],\n",
       "       [1.37e+02, 1.00e+00, 0.00e+00],\n",
       "       [1.78e+02, 1.40e+00, 0.00e+00],\n",
       "       [1.62e+02, 4.00e-01, 2.00e+00],\n",
       "       [1.57e+02, 1.60e+00, 0.00e+00],\n",
       "       [1.23e+02, 6.00e-01, 0.00e+00],\n",
       "       [1.57e+02, 8.00e-01, 1.00e+00],\n",
       "       [1.52e+02, 1.20e+00, 0.00e+00],\n",
       "       [1.68e+02, 0.00e+00, 1.00e+00],\n",
       "       [1.40e+02, 4.00e-01, 0.00e+00],\n",
       "       [1.88e+02, 0.00e+00, 0.00e+00],\n",
       "       [1.52e+02, 5.00e-01, 1.00e+00],\n",
       "       [1.25e+02, 1.40e+00, 1.00e+00],\n",
       "       [1.60e+02, 1.40e+00, 0.00e+00],\n",
       "       [1.70e+02, 0.00e+00, 0.00e+00],\n",
       "       [1.65e+02, 1.60e+00, 0.00e+00],\n",
       "       [1.48e+02, 8.00e-01, 0.00e+00],\n",
       "       [1.51e+02, 8.00e-01, 0.00e+00],\n",
       "       [1.42e+02, 1.50e+00, 1.00e+00],\n",
       "       [1.80e+02, 2.00e-01, 0.00e+00],\n",
       "       [1.48e+02, 3.00e+00, 0.00e+00],\n",
       "       [1.43e+02, 4.00e-01, 0.00e+00],\n",
       "       [1.82e+02, 0.00e+00, 0.00e+00],\n",
       "       [1.72e+02, 2.00e-01, 0.00e+00],\n",
       "       [1.80e+02, 0.00e+00, 0.00e+00],\n",
       "       [1.56e+02, 0.00e+00, 0.00e+00],\n",
       "       [1.15e+02, 0.00e+00, 0.00e+00],\n",
       "       [1.60e+02, 0.00e+00, 0.00e+00],\n",
       "       [1.49e+02, 5.00e-01, 0.00e+00],\n",
       "       [1.51e+02, 4.00e-01, 0.00e+00],\n",
       "       [1.46e+02, 1.80e+00, 3.00e+00],\n",
       "       [1.75e+02, 6.00e-01, 0.00e+00],\n",
       "       [1.72e+02, 0.00e+00, 0.00e+00],\n",
       "       [1.58e+02, 8.00e-01, 1.00e+00],\n",
       "       [1.86e+02, 0.00e+00, 0.00e+00],\n",
       "       [1.85e+02, 0.00e+00, 0.00e+00],\n",
       "       [1.74e+02, 0.00e+00, 0.00e+00],\n",
       "       [1.59e+02, 0.00e+00, 1.00e+00],\n",
       "       [1.30e+02, 0.00e+00, 1.00e+00],\n",
       "       [1.56e+02, 0.00e+00, 0.00e+00],\n",
       "       [1.90e+02, 0.00e+00, 0.00e+00],\n",
       "       [1.32e+02, 0.00e+00, 0.00e+00],\n",
       "       [1.65e+02, 0.00e+00, 0.00e+00],\n",
       "       [1.82e+02, 1.40e+00, 0.00e+00],\n",
       "       [1.43e+02, 1.20e+00, 0.00e+00],\n",
       "       [1.75e+02, 6.00e-01, 0.00e+00],\n",
       "       [1.70e+02, 0.00e+00, 0.00e+00],\n",
       "       [1.63e+02, 0.00e+00, 0.00e+00],\n",
       "       [1.47e+02, 4.00e-01, 0.00e+00],\n",
       "       [1.54e+02, 0.00e+00, 1.00e+00],\n",
       "       [2.02e+02, 0.00e+00, 0.00e+00],\n",
       "       [1.86e+02, 0.00e+00, 0.00e+00],\n",
       "       [1.65e+02, 2.00e-01, 0.00e+00],\n",
       "       [1.61e+02, 1.40e+00, 0.00e+00],\n",
       "       [1.66e+02, 2.40e+00, 0.00e+00],\n",
       "       [1.64e+02, 0.00e+00, 0.00e+00],\n",
       "       [1.84e+02, 0.00e+00, 0.00e+00],\n",
       "       [1.54e+02, 6.00e-01, 0.00e+00],\n",
       "       [1.79e+02, 0.00e+00, 0.00e+00],\n",
       "       [1.70e+02, 0.00e+00, 0.00e+00],\n",
       "       [1.60e+02, 0.00e+00, 1.00e+00],\n",
       "       [1.78e+02, 1.20e+00, 0.00e+00],\n",
       "       [1.22e+02, 6.00e-01, 0.00e+00],\n",
       "       [1.60e+02, 1.60e+00, 0.00e+00],\n",
       "       [1.51e+02, 1.00e+00, 1.00e+00],\n",
       "       [1.56e+02, 0.00e+00, 0.00e+00],\n",
       "       [1.58e+02, 1.60e+00, 0.00e+00],\n",
       "       [1.22e+02, 1.00e+00, 0.00e+00],\n",
       "       [1.75e+02, 0.00e+00, 2.00e+00],\n",
       "       [1.68e+02, 0.00e+00, 0.00e+00],\n",
       "       [1.69e+02, 0.00e+00, 4.00e+00],\n",
       "       [1.59e+02, 0.00e+00, 1.00e+00],\n",
       "       [1.38e+02, 0.00e+00, 0.00e+00],\n",
       "       [1.11e+02, 0.00e+00, 0.00e+00],\n",
       "       [1.57e+02, 1.20e+00, 0.00e+00],\n",
       "       [1.47e+02, 1.00e-01, 3.00e+00],\n",
       "       [1.62e+02, 1.90e+00, 1.00e+00],\n",
       "       [1.73e+02, 0.00e+00, 3.00e+00],\n",
       "       [1.78e+02, 8.00e-01, 2.00e+00],\n",
       "       [1.45e+02, 4.20e+00, 0.00e+00],\n",
       "       [1.79e+02, 0.00e+00, 2.00e+00],\n",
       "       [1.94e+02, 8.00e-01, 0.00e+00],\n",
       "       [1.63e+02, 0.00e+00, 0.00e+00],\n",
       "       [1.15e+02, 1.50e+00, 0.00e+00],\n",
       "       [1.31e+02, 1.00e-01, 1.00e+00],\n",
       "       [1.52e+02, 2.00e-01, 0.00e+00],\n",
       "       [1.62e+02, 1.10e+00, 0.00e+00],\n",
       "       [1.59e+02, 0.00e+00, 0.00e+00],\n",
       "       [1.54e+02, 0.00e+00, 0.00e+00],\n",
       "       [1.73e+02, 2.00e-01, 1.00e+00],\n",
       "       [1.33e+02, 2.00e-01, 0.00e+00],\n",
       "       [1.61e+02, 0.00e+00, 0.00e+00],\n",
       "       [1.55e+02, 0.00e+00, 0.00e+00],\n",
       "       [1.70e+02, 0.00e+00, 0.00e+00],\n",
       "       [1.68e+02, 2.00e+00, 0.00e+00],\n",
       "       [1.62e+02, 1.90e+00, 0.00e+00],\n",
       "       [1.72e+02, 0.00e+00, 0.00e+00],\n",
       "       [1.52e+02, 0.00e+00, 0.00e+00],\n",
       "       [1.22e+02, 2.00e+00, 2.00e+00],\n",
       "       [1.82e+02, 0.00e+00, 0.00e+00],\n",
       "       [1.72e+02, 0.00e+00, 0.00e+00],\n",
       "       [1.67e+02, 0.00e+00, 0.00e+00],\n",
       "       [1.79e+02, 0.00e+00, 0.00e+00],\n",
       "       [1.92e+02, 7.00e-01, 0.00e+00],\n",
       "       [1.43e+02, 1.00e-01, 0.00e+00],\n",
       "       [1.72e+02, 0.00e+00, 1.00e+00],\n",
       "       [1.69e+02, 1.00e-01, 0.00e+00],\n",
       "       [1.21e+02, 2.00e-01, 1.00e+00],\n",
       "       [1.63e+02, 0.00e+00, 1.00e+00],\n",
       "       [1.62e+02, 0.00e+00, 0.00e+00],\n",
       "       [1.62e+02, 0.00e+00, 0.00e+00],\n",
       "       [1.53e+02, 0.00e+00, 0.00e+00],\n",
       "       [1.63e+02, 0.00e+00, 0.00e+00],\n",
       "       [1.63e+02, 0.00e+00, 0.00e+00],\n",
       "       [9.60e+01, 0.00e+00, 0.00e+00],\n",
       "       [1.40e+02, 0.00e+00, 0.00e+00],\n",
       "       [1.26e+02, 1.50e+00, 0.00e+00],\n",
       "       [1.05e+02, 2.00e-01, 1.00e+00],\n",
       "       [1.57e+02, 6.00e-01, 0.00e+00],\n",
       "       [1.81e+02, 1.20e+00, 0.00e+00],\n",
       "       [1.73e+02, 0.00e+00, 0.00e+00],\n",
       "       [1.42e+02, 3.00e-01, 2.00e+00],\n",
       "       [1.16e+02, 1.10e+00, 0.00e+00],\n",
       "       [1.43e+02, 0.00e+00, 0.00e+00],\n",
       "       [1.49e+02, 3.00e-01, 1.00e+00],\n",
       "       [1.71e+02, 9.00e-01, 0.00e+00],\n",
       "       [1.69e+02, 0.00e+00, 0.00e+00],\n",
       "       [1.50e+02, 0.00e+00, 0.00e+00],\n",
       "       [1.38e+02, 2.30e+00, 0.00e+00],\n",
       "       [1.25e+02, 1.60e+00, 0.00e+00],\n",
       "       [1.55e+02, 6.00e-01, 0.00e+00],\n",
       "       [1.52e+02, 0.00e+00, 1.00e+00],\n",
       "       [1.52e+02, 0.00e+00, 0.00e+00],\n",
       "       [1.31e+02, 6.00e-01, 0.00e+00],\n",
       "       [1.79e+02, 0.00e+00, 0.00e+00],\n",
       "       [1.74e+02, 0.00e+00, 0.00e+00],\n",
       "       [1.44e+02, 4.00e-01, 4.00e+00],\n",
       "       [1.63e+02, 0.00e+00, 0.00e+00],\n",
       "       [1.69e+02, 0.00e+00, 0.00e+00],\n",
       "       [1.66e+02, 1.20e+00, 0.00e+00],\n",
       "       [1.82e+02, 0.00e+00, 0.00e+00],\n",
       "       [1.73e+02, 0.00e+00, 4.00e+00],\n",
       "       [1.73e+02, 0.00e+00, 4.00e+00],\n",
       "       [1.08e+02, 1.50e+00, 3.00e+00],\n",
       "       [1.29e+02, 2.60e+00, 2.00e+00],\n",
       "       [1.60e+02, 3.60e+00, 2.00e+00],\n",
       "       [1.47e+02, 1.40e+00, 1.00e+00],\n",
       "       [1.55e+02, 3.10e+00, 0.00e+00],\n",
       "       [1.42e+02, 6.00e-01, 1.00e+00],\n",
       "       [1.68e+02, 1.00e+00, 0.00e+00],\n",
       "       [1.60e+02, 1.80e+00, 0.00e+00],\n",
       "       [1.73e+02, 3.20e+00, 2.00e+00],\n",
       "       [1.32e+02, 2.40e+00, 2.00e+00],\n",
       "       [1.14e+02, 2.00e+00, 0.00e+00],\n",
       "       [1.60e+02, 1.40e+00, 2.00e+00],\n",
       "       [1.58e+02, 0.00e+00, 0.00e+00],\n",
       "       [1.20e+02, 2.50e+00, 0.00e+00],\n",
       "       [1.12e+02, 6.00e-01, 1.00e+00],\n",
       "       [1.32e+02, 1.20e+00, 1.00e+00],\n",
       "       [1.14e+02, 1.00e+00, 3.00e+00],\n",
       "       [1.69e+02, 0.00e+00, 0.00e+00],\n",
       "       [1.65e+02, 2.50e+00, 1.00e+00],\n",
       "       [1.28e+02, 2.60e+00, 0.00e+00],\n",
       "       [1.53e+02, 0.00e+00, 1.00e+00],\n",
       "       [1.44e+02, 1.40e+00, 1.00e+00],\n",
       "       [1.09e+02, 2.20e+00, 1.00e+00],\n",
       "       [1.63e+02, 6.00e-01, 1.00e+00],\n",
       "       [1.58e+02, 0.00e+00, 0.00e+00],\n",
       "       [1.42e+02, 1.20e+00, 0.00e+00],\n",
       "       [1.31e+02, 2.20e+00, 3.00e+00],\n",
       "       [1.13e+02, 1.40e+00, 1.00e+00],\n",
       "       [1.42e+02, 2.80e+00, 2.00e+00],\n",
       "       [1.55e+02, 3.00e+00, 0.00e+00],\n",
       "       [1.40e+02, 3.40e+00, 0.00e+00],\n",
       "       [1.47e+02, 3.60e+00, 0.00e+00],\n",
       "       [1.63e+02, 2.00e-01, 2.00e+00],\n",
       "       [9.90e+01, 1.80e+00, 2.00e+00],\n",
       "       [1.58e+02, 6.00e-01, 2.00e+00],\n",
       "       [1.77e+02, 0.00e+00, 1.00e+00],\n",
       "       [1.41e+02, 2.80e+00, 1.00e+00],\n",
       "       [1.11e+02, 8.00e-01, 0.00e+00],\n",
       "       [1.50e+02, 1.60e+00, 0.00e+00],\n",
       "       [1.45e+02, 6.20e+00, 3.00e+00],\n",
       "       [1.61e+02, 0.00e+00, 1.00e+00],\n",
       "       [1.42e+02, 1.20e+00, 1.00e+00],\n",
       "       [1.57e+02, 2.60e+00, 2.00e+00],\n",
       "       [1.39e+02, 2.00e+00, 3.00e+00],\n",
       "       [1.62e+02, 0.00e+00, 1.00e+00],\n",
       "       [1.50e+02, 4.00e-01, 1.00e+00],\n",
       "       [1.40e+02, 3.60e+00, 1.00e+00],\n",
       "       [1.40e+02, 1.20e+00, 0.00e+00],\n",
       "       [1.46e+02, 1.00e+00, 0.00e+00],\n",
       "       [1.44e+02, 1.20e+00, 1.00e+00],\n",
       "       [1.36e+02, 3.00e+00, 0.00e+00],\n",
       "       [9.70e+01, 1.20e+00, 1.00e+00],\n",
       "       [1.32e+02, 1.80e+00, 3.00e+00],\n",
       "       [1.27e+02, 2.80e+00, 1.00e+00],\n",
       "       [1.50e+02, 0.00e+00, 2.00e+00],\n",
       "       [1.54e+02, 4.00e+00, 3.00e+00],\n",
       "       [1.11e+02, 5.60e+00, 0.00e+00],\n",
       "       [1.74e+02, 1.40e+00, 1.00e+00],\n",
       "       [1.33e+02, 4.00e+00, 2.00e+00],\n",
       "       [1.26e+02, 2.80e+00, 1.00e+00],\n",
       "       [1.25e+02, 2.60e+00, 0.00e+00],\n",
       "       [1.03e+02, 1.40e+00, 1.00e+00],\n",
       "       [1.30e+02, 1.60e+00, 0.00e+00],\n",
       "       [1.59e+02, 2.00e-01, 0.00e+00],\n",
       "       [1.31e+02, 1.80e+00, 0.00e+00],\n",
       "       [1.52e+02, 0.00e+00, 0.00e+00],\n",
       "       [1.24e+02, 1.00e+00, 3.00e+00],\n",
       "       [1.45e+02, 8.00e-01, 1.00e+00],\n",
       "       [9.60e+01, 2.20e+00, 1.00e+00],\n",
       "       [1.09e+02, 2.40e+00, 3.00e+00],\n",
       "       [1.73e+02, 1.60e+00, 0.00e+00],\n",
       "       [1.71e+02, 0.00e+00, 2.00e+00],\n",
       "       [1.70e+02, 1.20e+00, 2.00e+00],\n",
       "       [1.62e+02, 0.00e+00, 3.00e+00],\n",
       "       [1.56e+02, 0.00e+00, 0.00e+00],\n",
       "       [1.12e+02, 2.90e+00, 1.00e+00],\n",
       "       [1.43e+02, 0.00e+00, 0.00e+00],\n",
       "       [1.32e+02, 2.00e+00, 2.00e+00],\n",
       "       [8.80e+01, 1.20e+00, 1.00e+00],\n",
       "       [1.05e+02, 2.10e+00, 1.00e+00],\n",
       "       [1.66e+02, 5.00e-01, 0.00e+00],\n",
       "       [1.50e+02, 1.90e+00, 2.00e+00],\n",
       "       [1.20e+02, 0.00e+00, 3.00e+00],\n",
       "       [1.95e+02, 0.00e+00, 1.00e+00],\n",
       "       [1.46e+02, 2.00e+00, 3.00e+00],\n",
       "       [1.22e+02, 4.20e+00, 3.00e+00],\n",
       "       [1.43e+02, 1.00e-01, 4.00e+00],\n",
       "       [1.06e+02, 1.90e+00, 3.00e+00],\n",
       "       [1.25e+02, 9.00e-01, 2.00e+00],\n",
       "       [1.25e+02, 0.00e+00, 0.00e+00],\n",
       "       [1.47e+02, 0.00e+00, 3.00e+00],\n",
       "       [1.30e+02, 3.00e+00, 2.00e+00],\n",
       "       [1.26e+02, 9.00e-01, 0.00e+00],\n",
       "       [1.54e+02, 1.40e+00, 0.00e+00],\n",
       "       [1.82e+02, 3.80e+00, 0.00e+00],\n",
       "       [1.65e+02, 1.00e+00, 2.00e+00],\n",
       "       [1.60e+02, 0.00e+00, 1.00e+00],\n",
       "       [9.50e+01, 2.00e+00, 2.00e+00],\n",
       "       [1.69e+02, 1.80e+00, 2.00e+00],\n",
       "       [1.08e+02, 0.00e+00, 1.00e+00],\n",
       "       [1.32e+02, 1.00e-01, 1.00e+00],\n",
       "       [1.17e+02, 3.40e+00, 0.00e+00],\n",
       "       [1.26e+02, 8.00e-01, 3.00e+00],\n",
       "       [1.16e+02, 3.20e+00, 2.00e+00],\n",
       "       [1.03e+02, 1.60e+00, 0.00e+00],\n",
       "       [1.44e+02, 8.00e-01, 0.00e+00],\n",
       "       [1.45e+02, 2.60e+00, 2.00e+00],\n",
       "       [7.10e+01, 1.00e+00, 0.00e+00],\n",
       "       [1.56e+02, 1.00e-01, 1.00e+00],\n",
       "       [1.18e+02, 1.00e+00, 1.00e+00],\n",
       "       [1.68e+02, 1.00e+00, 2.00e+00],\n",
       "       [1.05e+02, 2.00e+00, 1.00e+00],\n",
       "       [1.41e+02, 3.00e-01, 0.00e+00],\n",
       "       [1.52e+02, 0.00e+00, 2.00e+00],\n",
       "       [1.25e+02, 3.60e+00, 1.00e+00],\n",
       "       [1.25e+02, 1.80e+00, 0.00e+00],\n",
       "       [1.56e+02, 1.00e+00, 0.00e+00],\n",
       "       [1.34e+02, 2.20e+00, 1.00e+00],\n",
       "       [1.81e+02, 0.00e+00, 0.00e+00],\n",
       "       [1.38e+02, 1.90e+00, 1.00e+00],\n",
       "       [1.20e+02, 1.80e+00, 2.00e+00],\n",
       "       [1.62e+02, 8.00e-01, 2.00e+00],\n",
       "       [1.64e+02, 0.00e+00, 1.00e+00],\n",
       "       [1.43e+02, 3.00e+00, 1.00e+00],\n",
       "       [1.30e+02, 2.00e+00, 1.00e+00],\n",
       "       [1.61e+02, 0.00e+00, 1.00e+00],\n",
       "       [1.40e+02, 4.40e+00, 3.00e+00],\n",
       "       [1.46e+02, 2.80e+00, 2.00e+00],\n",
       "       [1.50e+02, 8.00e-01, 0.00e+00],\n",
       "       [1.44e+02, 2.80e+00, 0.00e+00],\n",
       "       [1.44e+02, 4.00e+00, 2.00e+00],\n",
       "       [1.36e+02, 0.00e+00, 0.00e+00],\n",
       "       [9.00e+01, 1.00e+00, 2.00e+00],\n",
       "       [1.23e+02, 2.00e-01, 0.00e+00],\n",
       "       [1.32e+02, 1.20e+00, 0.00e+00],\n",
       "       [1.41e+02, 3.40e+00, 2.00e+00],\n",
       "       [1.15e+02, 1.20e+00, 1.00e+00],\n",
       "       [1.74e+02, 0.00e+00, 1.00e+00]])"
      ]
     },
     "execution_count": 21,
     "metadata": {},
     "output_type": "execute_result"
    }
   ],
   "source": [
    "test1 = SelectKBest(score_func=chi2,k=3)\n",
    "test1.fit_transform(x,y)"
   ]
  },
  {
   "cell_type": "code",
   "execution_count": 22,
   "metadata": {},
   "outputs": [
    {
     "name": "stdout",
     "output_type": "stream",
     "text": [
      "age                            | 23.286623985733986\n",
      "sex                            | 7.576834507647363\n",
      "cp                             | 62.59809791039943\n",
      "trtbps                         | 14.823924500200537\n",
      "chol                           | 23.936394475916686\n",
      "fbs                            | 0.20293368467281492\n",
      "restecg                        | 2.978270750988143\n",
      "thalachh                       | 188.32047168970058\n",
      "exng                           | 38.91437697129396\n",
      "oldpeak                        | 72.6442530146183\n",
      "slp                            | 9.804095197255574\n",
      "caa                            | 66.4407651172357\n",
      "thall                          | 5.7918529711930535\n"
     ]
    }
   ],
   "source": [
    "for col,val in zip(df.columns, test1.scores_):\n",
    "    print(col.ljust(30),'|',val)"
   ]
  },
  {
   "cell_type": "code",
   "execution_count": 24,
   "metadata": {},
   "outputs": [],
   "source": [
    "best_x = df[['thalachh','oldpeak','caa']]"
   ]
  },
  {
   "cell_type": "code",
   "execution_count": 25,
   "metadata": {},
   "outputs": [],
   "source": [
    "fig = px.scatter_3d(df,x='thalachh',y='oldpeak',z='caa',color='output')\n",
    "fig.write_html('select.html', auto_open = True)"
   ]
  },
  {
   "cell_type": "code",
   "execution_count": 58,
   "metadata": {},
   "outputs": [],
   "source": [
    "kclf = KNeighborsClassifier(n_neighbors=4)"
   ]
  },
  {
   "cell_type": "code",
   "execution_count": 90,
   "metadata": {},
   "outputs": [
    {
     "data": {
      "text/plain": [
       "83.4983498349835"
      ]
     },
     "execution_count": 90,
     "metadata": {},
     "output_type": "execute_result"
    }
   ],
   "source": [
    "kclf.fit(best_x,y)\n",
    "kclf.score(best_x,y) * 100"
   ]
  },
  {
   "cell_type": "code",
   "execution_count": 60,
   "metadata": {},
   "outputs": [],
   "source": [
    "ypred = kclf.predict(best_x)"
   ]
  },
  {
   "cell_type": "code",
   "execution_count": 61,
   "metadata": {},
   "outputs": [
    {
     "data": {
      "text/plain": [
       "array([[119,  31],\n",
       "       [ 19, 134]])"
      ]
     },
     "execution_count": 61,
     "metadata": {},
     "output_type": "execute_result"
    }
   ],
   "source": [
    "confusion_matrix(ypred,y)"
   ]
  },
  {
   "cell_type": "code",
   "execution_count": 81,
   "metadata": {},
   "outputs": [
    {
     "name": "stdout",
     "output_type": "stream",
     "text": [
      "              precision    recall  f1-score   support\n",
      "\n",
      "           0       0.86      0.79      0.83       150\n",
      "           1       0.81      0.88      0.84       153\n",
      "\n",
      "    accuracy                           0.83       303\n",
      "   macro avg       0.84      0.83      0.83       303\n",
      "weighted avg       0.84      0.83      0.83       303\n",
      "\n"
     ]
    }
   ],
   "source": [
    "print(classification_report(ypred,y))"
   ]
  },
  {
   "cell_type": "code",
   "execution_count": 82,
   "metadata": {},
   "outputs": [],
   "source": [
    "xtrain, xtest, ytrain, ytest = train_test_split(best_x,y,test_size=.2)"
   ]
  },
  {
   "cell_type": "code",
   "execution_count": 83,
   "metadata": {},
   "outputs": [],
   "source": [
    "from sklearn.ensemble import RandomForestRegressor\n",
    "from sklearn.tree import DecisionTreeRegressor\n",
    "from sklearn.linear_model import LinearRegression\n",
    "from sklearn.model_selection import cross_val_score\n",
    "from sklearn.neighbors import KNeighborsRegressor\n",
    "from sklearn.svm import SVR\n",
    "from sklearn.model_selection import GridSearchCV"
   ]
  },
  {
   "cell_type": "code",
   "execution_count": 84,
   "metadata": {},
   "outputs": [
    {
     "data": {
      "text/plain": [
       "19.95778165536842"
      ]
     },
     "execution_count": 84,
     "metadata": {},
     "output_type": "execute_result"
    }
   ],
   "source": [
    "m1 = LinearRegression()\n",
    "m1.fit(xtrain,ytrain)\n",
    "m1.score(xtest,ytest) * 100"
   ]
  },
  {
   "cell_type": "code",
   "execution_count": 85,
   "metadata": {},
   "outputs": [
    {
     "data": {
      "text/plain": [
       "-69.44444444444444"
      ]
     },
     "execution_count": 85,
     "metadata": {},
     "output_type": "execute_result"
    }
   ],
   "source": [
    "m1 = DecisionTreeRegressor()\n",
    "m1.fit(xtrain,ytrain)\n",
    "m1.score(xtest,ytest) * 100"
   ]
  },
  {
   "cell_type": "code",
   "execution_count": 86,
   "metadata": {},
   "outputs": [
    {
     "data": {
      "text/plain": [
       "1.8696892716963176"
      ]
     },
     "execution_count": 86,
     "metadata": {},
     "output_type": "execute_result"
    }
   ],
   "source": [
    "m1 = RandomForestRegressor()\n",
    "m1.fit(xtrain,ytrain)\n",
    "m1.score(xtest,ytest) * 100"
   ]
  },
  {
   "cell_type": "code",
   "execution_count": 87,
   "metadata": {},
   "outputs": [
    {
     "data": {
      "text/plain": [
       "-17.21568627450982"
      ]
     },
     "execution_count": 87,
     "metadata": {},
     "output_type": "execute_result"
    }
   ],
   "source": [
    "m1 = KNeighborsRegressor()\n",
    "m1.fit(xtrain,ytrain)\n",
    "m1.score(xtest,ytest) * 100"
   ]
  },
  {
   "cell_type": "code",
   "execution_count": 88,
   "metadata": {},
   "outputs": [
    {
     "data": {
      "text/plain": [
       "-7.19404393275096"
      ]
     },
     "execution_count": 88,
     "metadata": {},
     "output_type": "execute_result"
    }
   ],
   "source": [
    "m1 = SVR()\n",
    "m1.fit(xtrain,ytrain)\n",
    "m1.score(xtest,ytest) * 100"
   ]
  },
  {
   "cell_type": "code",
   "execution_count": 91,
   "metadata": {},
   "outputs": [],
   "source": [
    "df['prediction'] = kclf.predict(best_x)"
   ]
  },
  {
   "cell_type": "code",
   "execution_count": 92,
   "metadata": {},
   "outputs": [
    {
     "data": {
      "image/png": "[encoded data removed]",
      "text/plain": [
       "<Figure size 1080x360 with 1 Axes>"
      ]
     },
     "metadata": {
      "needs_background": "light"
     },
     "output_type": "display_data"
    }
   ],
   "source": [
    "ax=df['output'].plot(kind='kde',figsize=(15,5))\n",
    "df['prediction'].plot(kind='kde',figsize=(15,5), ax = ax)\n",
    "plt.legend()\n",
    "plt.show()"
   ]
  },
  {
   "cell_type": "code",
   "execution_count": null,
   "metadata": {},
   "outputs": [],
   "source": []
  }
 ],
 "metadata": {
  "kernelspec": {
   "display_name": "Python 3",
   "language": "python",
   "name": "python3"
  },
  "language_info": {
   "codemirror_mode": {
    "name": "ipython",
    "version": 3
   },
   "file_extension": ".py",
   "mimetype": "text/x-python",
   "name": "python",
   "nbconvert_exporter": "python",
   "pygments_lexer": "ipython3",
   "version": "3.8.5"
  },
  "metadata": {
   "interpreter": {
    "hash": "31f2aee4e71d21fbe5cf8b01ff0e069b9275f58929596ceb00d14d90e3e16cd6"
   }
  }
 },
 "nbformat": 4,
 "nbformat_minor": 4
}
